{
 "cells": [
  {
   "cell_type": "code",
   "execution_count": 1,
   "id": "60e10c92",
   "metadata": {},
   "outputs": [
    {
     "name": "stdout",
     "output_type": "stream",
     "text": [
      "       word  frequency  importance\n",
      "Apple    사과        3.0           3\n",
      "Banana  바나나        5.0           2\n",
      "Carrot   당근        NaN           1\n",
      "Durian  두리안        2.0           1\n",
      "        word  frequency  importance\n",
      "Apple   True       True        True\n",
      "Banana  True       True        True\n",
      "Carrot  True      False        True\n",
      "Durian  True       True        True\n",
      "         word  frequency  importance\n",
      "Apple   False      False       False\n",
      "Banana  False      False       False\n",
      "Carrot  False       True       False\n",
      "Durian  False      False       False\n",
      "       word frequency  importance\n",
      "Apple    사과       3.0           3\n",
      "Banana  바나나       5.0           2\n",
      "Carrot   당근    데이터 없음           1\n",
      "Durian  두리안       2.0           1\n"
     ]
    }
   ],
   "source": [
    "# 데이터 프레임의 Null 여부 확인\n",
    "\n",
    "import pandas as pd\n",
    "import numpy as np\n",
    "\n",
    "word_dict = {\n",
    "    'Apple': '사과',\n",
    "    'Banana': '바나나',\n",
    "    'Carrot': '당근',\n",
    "    'Durian': '두리안'\n",
    "}\n",
    "\n",
    "frequency_dict = {\n",
    "    'Apple': 3,\n",
    "    'Banana': 5,\n",
    "    'Carrot': np.nan,\n",
    "    'Durian': 2\n",
    "}\n",
    "\n",
    "importance_dict = {\n",
    "    'Apple': 3,\n",
    "    'Banana': 2,\n",
    "    'Carrot': 1,\n",
    "    'Durian': 1\n",
    "}\n",
    "\n",
    "word = pd.Series(word_dict)\n",
    "frequency = pd.Series(frequency_dict)\n",
    "importance = pd.Series(importance_dict)\n",
    "\n",
    "summary = pd.DataFrame({\n",
    "    'word': word,\n",
    "    'frequency': frequency,\n",
    "    'importance': importance\n",
    "})\n",
    "\n",
    "print(summary)\n",
    "print(summary.notnull())\n",
    "print(summary.isnull())\n",
    "# dropna는 결측치 NaN를 제거하는 방법이고, fillna( )는 다른 데이터로 채우는 방법\n",
    "summary['frequency'] = summary['frequency'].fillna('데이터 없음')\n",
    "print(summary)"
   ]
  },
  {
   "cell_type": "code",
   "execution_count": 2,
   "id": "69de8cd9",
   "metadata": {},
   "outputs": [
    {
     "name": "stdout",
     "output_type": "stream",
     "text": [
      "A    1.0\n",
      "B    6.0\n",
      "C    8.0\n",
      "D    6.0\n",
      "dtype: float64\n"
     ]
    }
   ],
   "source": [
    "# 시리즈 자료형의 연산\n",
    "\n",
    "import pandas as pd\n",
    "\n",
    "array1 = pd.Series([1, 2, 3], index=['A', 'B', 'C'])\n",
    "array2 = pd.Series([4, 5, 6], index=['B', 'C', 'D'])\n",
    "\n",
    "# fill_value 옵션 : NaN 데이터를 입력값으로 적용후에 함수 적용\n",
    "#add와 같은 산술연산함수를 적용할 때 fill_value 옵션을 적용하면 NaN이 발생할 경우 특정 값으로 대입할 수 있습니다.\n",
    "array = array1.add(array2, fill_value=0)\n",
    "print(array)"
   ]
  },
  {
   "cell_type": "code",
   "execution_count": null,
   "id": "df1f8a91",
   "metadata": {},
   "outputs": [],
   "source": [
    "# 데이터 프레임 자료형의 연산\n"
   ]
  }
 ],
 "metadata": {
  "kernelspec": {
   "display_name": "Python 3 (ipykernel)",
   "language": "python",
   "name": "python3"
  },
  "language_info": {
   "codemirror_mode": {
    "name": "ipython",
    "version": 3
   },
   "file_extension": ".py",
   "mimetype": "text/x-python",
   "name": "python",
   "nbconvert_exporter": "python",
   "pygments_lexer": "ipython3",
   "version": "3.8.13"
  }
 },
 "nbformat": 4,
 "nbformat_minor": 5
}
