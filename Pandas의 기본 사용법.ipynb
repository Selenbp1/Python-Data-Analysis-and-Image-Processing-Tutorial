{
 "cells": [
  {
   "cell_type": "code",
   "execution_count": 6,
   "id": "56084b15",
   "metadata": {},
   "outputs": [
    {
     "name": "stdout",
     "output_type": "stream",
     "text": [
      "a     사과\n",
      "b    바나나\n",
      "c     당근\n",
      "dtype: object\n",
      "사과\n"
     ]
    }
   ],
   "source": [
    "# 판다스(Pandas): 데이터를 효과적으로 처리하고, 보여줄 수 있도록 도와주는 라이브러리입니다.\n",
    "# Numpy와 함께 사용되어 다양한 연계적인 기능을 제공합니다.\n",
    "# 인덱스(Index)에 따라 데이터를 나열하므로 사전(Dictionary) 자료형에 가깝습니다.\n",
    "# 시리즈(Series)를 기본적인 자료형으로 사용합니다.\n",
    "# 시리즈(Series): 시리즈는 인덱스와 값으로 구성됩니다.\n",
    "\n",
    "import pandas as pd\n",
    "\n",
    "array = pd.Series(['사과', '바나나', '당근'], index=['a', 'b', 'c'])\n",
    "\n",
    "print(array)\n",
    "print(array['a'])"
   ]
  },
  {
   "cell_type": "code",
   "execution_count": 7,
   "id": "1a0d9a71",
   "metadata": {},
   "outputs": [
    {
     "name": "stdout",
     "output_type": "stream",
     "text": [
      "사과\n"
     ]
    }
   ],
   "source": [
    "import pandas as pd\n",
    "\n",
    "data = {\n",
    "    'a': '사과',\n",
    "    'b': '바나나',\n",
    "    'c': '당근'\n",
    "}\n",
    "\n",
    "# Dict 자료형을 Series로 바꾸기\n",
    "array = pd.Series(data)\n",
    "print(array['a'])"
   ]
  },
  {
   "cell_type": "code",
   "execution_count": 8,
   "id": "43b4f90c",
   "metadata": {},
   "outputs": [
    {
     "name": "stdout",
     "output_type": "stream",
     "text": [
      "       word  frequency\n",
      "Apple    사과          3\n",
      "Banana  바나나          5\n",
      "Carrot   당근          7\n"
     ]
    }
   ],
   "source": [
    "# 데이터 프레임\n",
    "# 다수의 시리즈(Series)를 모아 처리하기 위한 목적으로 사용합니다.\n",
    "# 표 형태로 데이터를 손쉽게 출력하고자 할 때 사용할 수 있습니다.\n",
    "\n",
    "import pandas as pd\n",
    "\n",
    "word_dict = {\n",
    "    'Apple': '사과',\n",
    "    'Banana': '바나나',\n",
    "    'Carrot': '당근'\n",
    "}\n",
    "\n",
    "frequency_dict = {\n",
    "    'Apple': 3,\n",
    "    'Banana': 5,\n",
    "    'Carrot': 7\n",
    "}\n",
    "\n",
    "word = pd.Series(word_dict)\n",
    "frequency = pd.Series(frequency_dict)\n",
    "\n",
    "# 이름(Name): 값(Values)\n",
    "summary = pd.DataFrame({\n",
    "    'word': word,\n",
    "    'frequency': frequency\n",
    "})\n",
    "\n",
    "print(summary)\n"
   ]
  },
  {
   "cell_type": "code",
   "execution_count": 9,
   "id": "d2d36f8c",
   "metadata": {},
   "outputs": [
    {
     "name": "stdout",
     "output_type": "stream",
     "text": [
      "       word  frequency  importance  score\n",
      "Apple    사과          3           3      9\n",
      "Banana  바나나          5           2     10\n",
      "Carrot   당근          7           1      7\n"
     ]
    }
   ],
   "source": [
    "# 시리즈의 연산\n",
    "# 시리즈를 서로 연산하여 새로운 시리즈를 만들 수 있습니다.\n",
    "\n",
    "import pandas as pd\n",
    "\n",
    "word_dict = {\n",
    "    'Apple': '사과',\n",
    "    'Banana': '바나나',\n",
    "    'Carrot': '당근'\n",
    "}\n",
    "\n",
    "frequency_dict = {\n",
    "    'Apple': 3,\n",
    "    'Banana': 5,\n",
    "    'Carrot': 7\n",
    "}\n",
    "\n",
    "importance_dict = {\n",
    "    'Apple': 3,\n",
    "    'Banana': 2,\n",
    "    'Carrot': 1\n",
    "}\n",
    "\n",
    "word = pd.Series(word_dict)\n",
    "frequency = pd.Series(frequency_dict)\n",
    "importance = pd.Series(importance_dict)\n",
    "\n",
    "summary = pd.DataFrame({\n",
    "    'word': word,\n",
    "    'frequency': frequency,\n",
    "    'importance': importance\n",
    "})\n",
    "\n",
    "score = summary['frequency'] * summary['importance']\n",
    "summary['score'] = score\n",
    "\n",
    "print(summary)"
   ]
  },
  {
   "cell_type": "code",
   "execution_count": 13,
   "id": "f0964dbd",
   "metadata": {},
   "outputs": [
    {
     "name": "stdout",
     "output_type": "stream",
     "text": [
      "       word  frequency  importance\n",
      "Apple    사과          3           3\n",
      "Banana  바나나          5           2\n",
      "Carrot   당근          7           1\n",
      "Durian  두리안          2           1\n",
      "        importance\n",
      "Banana           2\n",
      "Carrot           1\n",
      "        importance\n",
      "Banana           2\n",
      "Carrot           1\n",
      "       word  frequency\n",
      "Apple    사과          3\n",
      "Banana  바나나          5\n"
     ]
    }
   ],
   "source": [
    "#데이터 프레임의 슬라이싱 \n",
    "\n",
    "import pandas as pd\n",
    "\n",
    "word_dict = {\n",
    "    'Apple': '사과',\n",
    "    'Banana': '바나나',\n",
    "    'Carrot': '당근',\n",
    "    'Durian': '두리안'\n",
    "}\n",
    "\n",
    "frequency_dict = {\n",
    "    'Apple': 3,\n",
    "    'Banana': 5,\n",
    "    'Carrot': 7,\n",
    "    'Durian': 2\n",
    "}\n",
    "\n",
    "importance_dict = {\n",
    "    'Apple': 3,\n",
    "    'Banana': 2,\n",
    "    'Carrot': 1,\n",
    "    'Durian': 1\n",
    "}\n",
    "\n",
    "word = pd.Series(word_dict)\n",
    "frequency = pd.Series(frequency_dict)\n",
    "importance = pd.Series(importance_dict)\n",
    "\n",
    "summary = pd.DataFrame({\n",
    "    'word': word,\n",
    "    'frequency': frequency,\n",
    "    'importance': importance\n",
    "})\n",
    "\n",
    "print(summary)\n",
    "\n",
    "# 이름을 기준으로 슬라이싱\n",
    "print(summary.loc['Banana':'Carrot', 'importance':])\n",
    "\n",
    "# 인덱스를 기준으로 슬라이싱\n",
    "print(summary.iloc[1:3, 2:])\n",
    "print(summary.iloc[0:2, 0:2])\n"
   ]
  },
  {
   "cell_type": "code",
   "execution_count": 14,
   "id": "4d6b6239",
   "metadata": {},
   "outputs": [
    {
     "name": "stdout",
     "output_type": "stream",
     "text": [
      "       word  frequency  importance\n",
      "Apple    사과          3           3\n",
      "Banana  바나나          5           2\n",
      "Carrot   당근          7           1\n",
      "Durian  두리안          2           1\n",
      "            word  frequency  importance\n",
      "Apple         사과          3           5\n",
      "Banana       바나나          5           2\n",
      "Carrot        당근          7           1\n",
      "Durian       두리안          2           1\n",
      "Elderberry  엘더베리          5           3\n"
     ]
    }
   ],
   "source": [
    "#데이터 프레임의 연산\n",
    "\n",
    "import pandas as pd\n",
    "\n",
    "word_dict = {\n",
    "    'Apple': '사과',\n",
    "    'Banana': '바나나',\n",
    "    'Carrot': '당근',\n",
    "    'Durian': '두리안'\n",
    "}\n",
    "\n",
    "frequency_dict = {\n",
    "    'Apple': 3,\n",
    "    'Banana': 5,\n",
    "    'Carrot': 7,\n",
    "    'Durian': 2\n",
    "}\n",
    "\n",
    "importance_dict = {\n",
    "    'Apple': 3,\n",
    "    'Banana': 2,\n",
    "    'Carrot': 1,\n",
    "    'Durian': 1\n",
    "}\n",
    "\n",
    "word = pd.Series(word_dict)\n",
    "frequency = pd.Series(frequency_dict)\n",
    "importance = pd.Series(importance_dict)\n",
    "\n",
    "summary = pd.DataFrame({\n",
    "    'word': word,\n",
    "    'frequency': frequency,\n",
    "    'importance': importance\n",
    "})\n",
    "\n",
    "print(summary)\n",
    "\n",
    "summary.loc['Apple', 'importance'] = 5 # 데이터의 변경\n",
    "summary.loc['Elderberry'] = ['엘더베리', 5, 3] # 새 데이터 삽입\n",
    "\n",
    "print(summary)"
   ]
  },
  {
   "cell_type": "code",
   "execution_count": 15,
   "id": "82365b2d",
   "metadata": {},
   "outputs": [
    {
     "name": "stdout",
     "output_type": "stream",
     "text": [
      "       word  frequency\n",
      "Apple    사과          3\n",
      "Banana  바나나          5\n",
      "Carrot   당근          7\n"
     ]
    }
   ],
   "source": [
    "#엑셀로 내보내기/불러오기\n",
    "\n",
    "import pandas as pd\n",
    "\n",
    "word_dict = {\n",
    "    'Apple': '사과',\n",
    "    'Banana': '바나나',\n",
    "    'Carrot': '당근'\n",
    "}\n",
    "\n",
    "frequency_dict = {\n",
    "    'Apple': 3,\n",
    "    'Banana': 5,\n",
    "    'Carrot': 7\n",
    "}\n",
    "\n",
    "word = pd.Series(word_dict)\n",
    "frequency = pd.Series(frequency_dict)\n",
    "\n",
    "summary = pd.DataFrame({\n",
    "    'word': word,\n",
    "    'frequency': frequency\n",
    "})\n",
    "\n",
    "summary.to_csv(\"summary.csv\", encoding=\"utf-8-sig\")\n",
    "saved = pd.read_csv(\"summary.csv\", index_col=0)\n",
    "print(saved)"
   ]
  },
  {
   "cell_type": "code",
   "execution_count": null,
   "id": "03ac0193",
   "metadata": {},
   "outputs": [],
   "source": []
  }
 ],
 "metadata": {
  "kernelspec": {
   "display_name": "Python 3 (ipykernel)",
   "language": "python",
   "name": "python3"
  },
  "language_info": {
   "codemirror_mode": {
    "name": "ipython",
    "version": 3
   },
   "file_extension": ".py",
   "mimetype": "text/x-python",
   "name": "python",
   "nbconvert_exporter": "python",
   "pygments_lexer": "ipython3",
   "version": "3.8.13"
  }
 },
 "nbformat": 4,
 "nbformat_minor": 5
}
