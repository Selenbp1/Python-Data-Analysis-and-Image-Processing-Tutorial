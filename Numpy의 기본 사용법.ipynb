{
 "cells": [
  {
   "cell_type": "code",
   "execution_count": 2,
   "id": "58cb6870",
   "metadata": {},
   "outputs": [
    {
     "name": "stdout",
     "output_type": "stream",
     "text": [
      "3\n",
      "int64\n",
      "3\n"
     ]
    }
   ],
   "source": [
    "#Python의 Numpy 라이브러리는 List와 상호 변환이 가능합니다.\n",
    "import numpy as np\n",
    "\n",
    "list_data = [1,2,3]\n",
    "array = np.array(list_data)\n",
    "\n",
    "print(array.size) # 배열의 크기\n",
    "print(array.dtype) # 배열 원소의 타입\n",
    "print(array[2]) # 인덱스 2의 원소"
   ]
  },
  {
   "cell_type": "code",
   "execution_count": 3,
   "id": "9b3d9fee",
   "metadata": {},
   "outputs": [
    {
     "name": "stdout",
     "output_type": "stream",
     "text": [
      "[0 1 2 3]\n",
      "[[0. 0. 0. 0.]\n",
      " [0. 0. 0. 0.]\n",
      " [0. 0. 0. 0.]\n",
      " [0. 0. 0. 0.]]\n",
      "[['1' '1' '1']\n",
      " ['1' '1' '1']\n",
      " ['1' '1' '1']]\n",
      "[[1 1 2]\n",
      " [6 3 1]\n",
      " [0 3 2]]\n",
      "[[-0.69918331  0.26034498 -0.88695705]\n",
      " [ 1.56130662 -0.48455277  0.48687936]\n",
      " [-0.79465093  0.67032403  0.81827387]]\n"
     ]
    }
   ],
   "source": [
    "#Python의 Numpy 라이브러리는 다양한 형태의 배열을 초기화 할 수 있습니다.\n",
    "import numpy as np\n",
    "\n",
    "# 0부터 3까지의 배열 만들기\n",
    "array1 = np.arange(4)\n",
    "print(array1)\n",
    "\n",
    "# 0으로 초기화\n",
    "array2 = np.zeros((4, 4), dtype=float)\n",
    "print(array2)\n",
    "\n",
    "# 1로 초기화\n",
    "array3 = np.ones((3, 3), dtype=str)\n",
    "print(array3)\n",
    "\n",
    "# 0부터 9까지 랜덤하게 초기화 된 배열 만들기\n",
    "array4 = np.random.randint(0, 10, (3, 3))\n",
    "print(array4)\n",
    "\n",
    "# 평균이 0이고 표준편차가 1인 표준 정규를 띄는 배열\n",
    "array5 = np.random.normal(0, 1, (3, 3))\n",
    "print(array5)"
   ]
  },
  {
   "cell_type": "code",
   "execution_count": 3,
   "id": "db884d8c",
   "metadata": {},
   "outputs": [
    {
     "name": "stdout",
     "output_type": "stream",
     "text": [
      "[0 1 2 3]\n",
      "[[0. 0. 0. 0.]\n",
      " [0. 0. 0. 0.]\n",
      " [0. 0. 0. 0.]\n",
      " [0. 0. 0. 0.]]\n",
      "[['1' '1' '1']\n",
      " ['1' '1' '1']\n",
      " ['1' '1' '1']]\n",
      "[[1 1 2]\n",
      " [6 3 1]\n",
      " [0 3 2]]\n",
      "[[-0.69918331  0.26034498 -0.88695705]\n",
      " [ 1.56130662 -0.48455277  0.48687936]\n",
      " [-0.79465093  0.67032403  0.81827387]]\n"
     ]
    }
   ],
   "source": [
    "#Python의 Numpy 라이브러리는 다양한 형태의 배열을 초기화 할 수 있습니다.\n",
    "import numpy as np\n",
    "\n",
    "# 0부터 3까지의 배열 만들기\n",
    "array1 = np.arange(4)\n",
    "print(array1)\n",
    "\n",
    "# 0으로 초기화\n",
    "array2 = np.zeros((4, 4), dtype=float)\n",
    "print(array2)\n",
    "\n",
    "# 1로 초기화\n",
    "array3 = np.ones((3, 3), dtype=str)\n",
    "print(array3)\n",
    "\n",
    "# 0부터 9까지 랜덤하게 초기화 된 배열 만들기\n",
    "array4 = np.random.randint(0, 10, (3, 3))\n",
    "print(array4)\n",
    "\n",
    "# 평균이 0이고 표준편차가 1인 표준 정규를 띄는 배열\n",
    "array5 = np.random.normal(0, 1, (3, 3))\n",
    "print(array5)"
   ]
  },
  {
   "cell_type": "code",
   "execution_count": 4,
   "id": "cb655266",
   "metadata": {},
   "outputs": [
    {
     "name": "stdout",
     "output_type": "stream",
     "text": [
      "(6,)\n",
      "[1 2 3 4 5 6]\n"
     ]
    }
   ],
   "source": [
    "#Numpy는 다양한 형태로 합치기가 가능 있습니다.\n",
    "import numpy as np\n",
    "\n",
    "array1 = np.array([1, 2, 3]) \n",
    "array2 = np.array([4, 5, 6])\n",
    "array3 = np.concatenate([array1, array2])\n",
    "\n",
    "print(array3.shape)\n",
    "print(array3)"
   ]
  },
  {
   "cell_type": "code",
   "execution_count": 8,
   "id": "440f03f3",
   "metadata": {},
   "outputs": [
    {
     "name": "stdout",
     "output_type": "stream",
     "text": [
      "(3, 4)\n",
      "[[0 1 2 3]\n",
      " [0 1 2 3]\n",
      " [4 5 6 7]]\n"
     ]
    }
   ],
   "source": [
    "import numpy as np\n",
    "#Numpy를 위 아래로 합칠 수 있습니다.\n",
    "array1 = np.arange(4).reshape(1, 4)\n",
    "array2 = np.arange(8).reshape(2, 4)\n",
    "array3 = np.concatenate([array1, array2], axis=0)\n",
    "\n",
    "print(array3.shape)\n",
    "print(array3)"
   ]
  },
  {
   "cell_type": "code",
   "execution_count": 7,
   "id": "f0fcac35",
   "metadata": {},
   "outputs": [
    {
     "name": "stdout",
     "output_type": "stream",
     "text": [
      "(2, 2)\n"
     ]
    }
   ],
   "source": [
    "#Numpy의 형태를 변경할 수 있습니다.\n",
    "import numpy as np\n",
    "\n",
    "array1 = np.array([1, 2, 3, 4])\n",
    "array2 = array1.reshape((2, 2))\n",
    "print(array2.shape)"
   ]
  },
  {
   "cell_type": "code",
   "execution_count": 10,
   "id": "ebab4f99",
   "metadata": {},
   "outputs": [
    {
     "name": "stdout",
     "output_type": "stream",
     "text": [
      "(2, 2)\n",
      "(2, 2)\n",
      "[[0 1 2 3]\n",
      " [4 5 6 7]]\n",
      "[[0 1]\n",
      " [4 5]]\n",
      "7\n"
     ]
    }
   ],
   "source": [
    "#Numpy의 형태를 나누기 할 수 있습니다.\n",
    "import numpy as np\n",
    "\n",
    "array = np.arange(8).reshape(2, 4)\n",
    "left, right = np.split(array, [2], axis=1)\n",
    "\n",
    "print(left.shape)\n",
    "print(right.shape)\n",
    "print(array)\n",
    "print(left)\n",
    "print(right[1][1])"
   ]
  },
  {
   "cell_type": "code",
   "execution_count": null,
   "id": "ff211b90",
   "metadata": {},
   "outputs": [],
   "source": []
  }
 ],
 "metadata": {
  "kernelspec": {
   "display_name": "Python 3 (ipykernel)",
   "language": "python",
   "name": "python3"
  },
  "language_info": {
   "codemirror_mode": {
    "name": "ipython",
    "version": 3
   },
   "file_extension": ".py",
   "mimetype": "text/x-python",
   "name": "python",
   "nbconvert_exporter": "python",
   "pygments_lexer": "ipython3",
   "version": "3.9.7"
  }
 },
 "nbformat": 4,
 "nbformat_minor": 5
}
