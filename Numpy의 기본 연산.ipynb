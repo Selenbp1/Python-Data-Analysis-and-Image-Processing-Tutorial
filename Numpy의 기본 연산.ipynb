{
 "cells": [
  {
   "cell_type": "code",
   "execution_count": 1,
   "id": "376edbfa",
   "metadata": {},
   "outputs": [
    {
     "name": "stdout",
     "output_type": "stream",
     "text": [
      "[[30 60]\n",
      " [60 40]]\n"
     ]
    }
   ],
   "source": [
    "#Python의 Numpy 라이브러리는 기본적인 상수 연산이 가능합니다.\n",
    "\n",
    "import numpy as np\n",
    "\n",
    "array = np.random.randint(1, 10, size=4).reshape(2, 2)\n",
    "result_array = array * 10\n",
    "print(result_array)"
   ]
  },
  {
   "cell_type": "code",
   "execution_count": 2,
   "id": "2f041d9d",
   "metadata": {},
   "outputs": [
    {
     "name": "stdout",
     "output_type": "stream",
     "text": [
      "[[0 2]\n",
      " [2 4]]\n"
     ]
    }
   ],
   "source": [
    "#서로 다른 형태의 Numpy 연산이 가능합니다.\n",
    "\n",
    "import numpy as np\n",
    "\n",
    "array1 = np.arange(4).reshape(2, 2)\n",
    "array2 = np.arange(2)\n",
    "array3 = array1 + array2\n",
    "\n",
    "print(array3)"
   ]
  },
  {
   "cell_type": "code",
   "execution_count": 3,
   "id": "d53e4d4b",
   "metadata": {},
   "outputs": [
    {
     "name": "stdout",
     "output_type": "stream",
     "text": [
      "[[ 0  1  2  3]\n",
      " [ 5  6  7  8]\n",
      " [ 2  3  4  5]\n",
      " [ 7  8  9 10]]\n"
     ]
    }
   ],
   "source": [
    "import numpy as np\n",
    "\n",
    "array1 = np.arange(0, 8).reshape(2, 4)\n",
    "array2 = np.arange(0, 8).reshape(2, 4)\n",
    "array3 = np.concatenate([array1, array2], axis=0)\n",
    "array4 = np.arange(0, 4).reshape(4, 1)\n",
    "\n",
    "print(array3 + array4)"
   ]
  },
  {
   "cell_type": "code",
   "execution_count": 4,
   "id": "bc395337",
   "metadata": {},
   "outputs": [
    {
     "name": "stdout",
     "output_type": "stream",
     "text": [
      "[[ 0  1  2  3]\n",
      " [ 4  5  6  7]\n",
      " [ 8  9 10 11]\n",
      " [12 13 14 15]]\n",
      "[[ True  True  True  True]\n",
      " [ True  True  True  True]\n",
      " [ True  True False False]\n",
      " [False False False False]]\n",
      "[[100 100 100 100]\n",
      " [100 100 100 100]\n",
      " [100 100  10  11]\n",
      " [ 12  13  14  15]]\n"
     ]
    }
   ],
   "source": [
    "#Numpy의 마스킹 연산이 가능합니다.\n",
    "\n",
    "import numpy as np\n",
    "\n",
    "# Numpy 원소의 값을 조건에 따라 바꿀 때는 다음과 같이 합니다.\n",
    "# 반복문을 이용할 때보다 매우 빠르게 동작합니다.\n",
    "# 대체로 이미지 처리(Image Processing)에서 자주 활용됩니다.\n",
    "array1 = np.arange(16).reshape(4, 4)\n",
    "print(array1)\n",
    "\n",
    "array2 = array1 < 10\n",
    "print(array2)\n",
    "\n",
    "array1[array2] = 100\n",
    "print(array1)"
   ]
  },
  {
   "cell_type": "code",
   "execution_count": 5,
   "id": "6a4cf215",
   "metadata": {},
   "outputs": [
    {
     "name": "stdout",
     "output_type": "stream",
     "text": [
      "최대값: 15\n",
      "최소값: 0\n",
      "합계: 120\n",
      "평균값: 7.5\n"
     ]
    }
   ],
   "source": [
    "#Numpy는 다양한 집계 함수가 존재합니다.\n",
    "\n",
    "import numpy as np\n",
    "\n",
    "array = np.arange(16).reshape(4, 4)\n",
    "\n",
    "print(\"최대값:\", np.max(array))\n",
    "print(\"최소값:\", np.min(array))\n",
    "print(\"합계:\", np.sum(array))\n",
    "print(\"평균값:\", np.mean(array))"
   ]
  },
  {
   "cell_type": "code",
   "execution_count": 6,
   "id": "bab4dcc2",
   "metadata": {},
   "outputs": [
    {
     "name": "stdout",
     "output_type": "stream",
     "text": [
      "[[ 0  1  2  3]\n",
      " [ 4  5  6  7]\n",
      " [ 8  9 10 11]\n",
      " [12 13 14 15]]\n",
      "합계: [24 28 32 36]\n"
     ]
    }
   ],
   "source": [
    "import numpy as np\n",
    "\n",
    "array = np.arange(16).reshape(4, 4)\n",
    "\n",
    "print(array)\n",
    "print(\"합계:\", np.sum(array, axis=0))"
   ]
  },
  {
   "cell_type": "code",
   "execution_count": null,
   "id": "b1e974b6",
   "metadata": {},
   "outputs": [],
   "source": []
  }
 ],
 "metadata": {
  "kernelspec": {
   "display_name": "Python 3 (ipykernel)",
   "language": "python",
   "name": "python3"
  },
  "language_info": {
   "codemirror_mode": {
    "name": "ipython",
    "version": 3
   },
   "file_extension": ".py",
   "mimetype": "text/x-python",
   "name": "python",
   "nbconvert_exporter": "python",
   "pygments_lexer": "ipython3",
   "version": "3.9.7"
  }
 },
 "nbformat": 4,
 "nbformat_minor": 5
}
