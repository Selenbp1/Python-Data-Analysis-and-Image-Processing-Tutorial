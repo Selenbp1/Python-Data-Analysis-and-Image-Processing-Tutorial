{
 "cells": [
  {
   "cell_type": "code",
   "execution_count": 7,
   "id": "94fcd79c",
   "metadata": {},
   "outputs": [
    {
     "name": "stdout",
     "output_type": "stream",
     "text": [
      "   A  B  C\n",
      "0  3  3  9\n",
      "1  6  9  3\n",
      "2  3  6  4\n",
      "0     True\n",
      "1    False\n",
      "2     True\n",
      "Name: A, dtype: bool\n",
      "   A  B  C\n",
      "0  3  3  9\n",
      "2  3  6  4\n"
     ]
    }
   ],
   "source": [
    "# 데이터 프레임의 마스킹\n",
    "\n",
    "\n",
    "import numpy as np\n",
    "import pandas as pd\n",
    "\n",
    "df = pd.DataFrame(np.random.randint(1, 10, (3, 3)), index=[0, 1, 2], columns=[\"A\", \"B\", \"C\"])\n",
    "# 데이터 프레임 출력하기\n",
    "print(df)\n",
    "# 컬럼 A의 각 원소가 5보다 작거나 같은지 출력\n",
    "print(df[\"A\"] <= 5)\n",
    "# 컬럼 A의 원소가 5보다 작고, 컬럼 B의 원소가 8보다 작은 행 추출\n",
    "# query() : 조건 부합 데이터 추출 \n",
    "print(df.query(\"A <= 5 and B <= 8\"))\n"
   ]
  },
  {
   "cell_type": "code",
   "execution_count": 8,
   "id": "8550c6ca",
   "metadata": {},
   "outputs": [
    {
     "name": "stdout",
     "output_type": "stream",
     "text": [
      "   A  B  C  D\n",
      "0  1  2  3  4\n",
      "1  1  2  3  4\n",
      "   A  B  C  D\n",
      "0  2  3  4  5\n",
      "1  2  3  4  5\n",
      "   A  B  C  D\n",
      "0  3  4  5  6\n",
      "1  3  4  5  6\n"
     ]
    }
   ],
   "source": [
    "# 데이터 프레임의 개별 연산\n",
    "\n",
    "import pandas as pd\n",
    "\n",
    "df = pd.DataFrame([[1, 2, 3, 4], [1, 2, 3, 4]], index=[0, 1], columns=[\"A\", \"B\", \"C\", \"D\"])\n",
    "print(df)\n",
    "\n",
    "# lambda란 함수를 한 줄로 표현하는 익명 함수 기법\n",
    "df = df.apply(lambda x: x + 1)\n",
    "print(df)\n",
    "\n",
    "# def 함수이름(): # 첫 행\n",
    "# 본문 # 함수를 호출했을 때, 실행할 코드 블록\n",
    "def addOne(x):\n",
    "  return x + 1\n",
    "  \n",
    "df = df.apply(addOne)\n",
    "print(df)"
   ]
  },
  {
   "cell_type": "code",
   "execution_count": 9,
   "id": "a2a72d5c",
   "metadata": {},
   "outputs": [
    {
     "name": "stdout",
     "output_type": "stream",
     "text": [
      "        A       B       C       D\n",
      "0   Apple   Apple  Carrot  Banana\n",
      "1  Durian  Banana   Apple  Carrot\n",
      "         A        B        C       D\n",
      "0  Airport  Airport   Carrot  Banana\n",
      "1   Durian   Banana  Airport  Carrot\n"
     ]
    }
   ],
   "source": [
    "import pandas as pd\n",
    "\n",
    "df = pd.DataFrame([\n",
    "  ['Apple', 'Apple', 'Carrot', 'Banana'],\n",
    "  ['Durian', 'Banana', 'Apple', 'Carrot']],\n",
    "  index=[0, 1],\n",
    "  columns=[\"A\", \"B\", \"C\", \"D\"])\n",
    "\n",
    "print(df)\n",
    "df = df.replace({\"Apple\": \"Airport\"})\n",
    "print(df)"
   ]
  },
  {
   "cell_type": "code",
   "execution_count": 10,
   "id": "cee055d6",
   "metadata": {},
   "outputs": [
    {
     "name": "stdout",
     "output_type": "stream",
     "text": [
      "     Name  Frequency   Type\n",
      "0   Apple          7  Fruit\n",
      "1  Banana          3  Fruit\n",
      "2    Beef          5   Meal\n",
      "3  Kimchi          4   Meal\n",
      "       Frequency\n",
      "Type            \n",
      "Fruit         10\n",
      "Meal           9\n"
     ]
    }
   ],
   "source": [
    "# 데이터 프레임의 그룹화\n",
    "import pandas as pd\n",
    "\n",
    "df = pd.DataFrame([\n",
    "  ['Apple', 7, 'Fruit'],\n",
    "  ['Banana', 3, 'Fruit'],\n",
    "  ['Beef', 5, 'Meal'],\n",
    "  ['Kimchi', 4, 'Meal']],\n",
    "  columns=[\"Name\", \"Frequency\", \"Type\"])\n",
    "\n",
    "print(df)\n",
    "# groupby : 주어진 데이터를 그룹 별로 구분하여 데이터를 보기 위해 사용되는 함수이다.\n",
    "print(df.groupby(['Type']).sum())"
   ]
  },
  {
   "cell_type": "code",
   "execution_count": 11,
   "id": "e4d9d736",
   "metadata": {},
   "outputs": [
    {
     "name": "stdout",
     "output_type": "stream",
     "text": [
      "     Name  Frequency  Importance   Type\n",
      "0   Apple          7           5  Fruit\n",
      "1  Banana          3           6  Fruit\n",
      "2    Beef          5           2   Meal\n",
      "3  Kimchi          4           8   Meal\n",
      "      Frequency             Importance            \n",
      "            min max average        min max average\n",
      "Type                                              \n",
      "Fruit         3   7     5.0          5   6     5.5\n",
      "Meal          4   5     4.5          2   8     5.0\n"
     ]
    }
   ],
   "source": [
    "import numpy as np\n",
    "import pandas as pd\n",
    "\n",
    "df = pd.DataFrame([\n",
    "  ['Apple', 7, 5, 'Fruit'],\n",
    "  ['Banana', 3, 6, 'Fruit'],\n",
    "  ['Beef', 5, 2, 'Meal'],\n",
    "  ['Kimchi', 4, 8, 'Meal']],\n",
    "  columns=[\"Name\", \"Frequency\", \"Importance\", \"Type\"])\n",
    "\n",
    "print(df)\n",
    "# aggregate : 내가 원하는 함수를 직접 만들어 사용하고, dataframe에 적용시킬 수 있음\n",
    "print(df.groupby([\"Type\"]).aggregate([min, max, np.average]))"
   ]
  },
  {
   "cell_type": "code",
   "execution_count": 22,
   "id": "9feaa358",
   "metadata": {},
   "outputs": [
    {
     "name": "stdout",
     "output_type": "stream",
     "text": [
      "     Name  Frequency  Importance   Type\n",
      "0   Apple          7           5  Fruit\n",
      "1  Banana          3           6  Fruit\n",
      "2    Beef          5           2   Meal\n",
      "3  Kimchi          4           8   Meal\n",
      "     Name  Frequency  Importance   Type\n",
      "0   Apple          7           5  Fruit\n",
      "1  Banana          3           6  Fruit\n"
     ]
    }
   ],
   "source": [
    "import pandas as pd\n",
    "\n",
    "df = pd.DataFrame([\n",
    "  ['Apple', 7, 5, 'Fruit'],\n",
    "  ['Banana', 3, 6, 'Fruit'],\n",
    "  ['Beef', 5, 2, 'Meal'],\n",
    "  ['Kimchi', 4, 8, 'Meal']],\n",
    "  columns=[\"Name\", \"Frequency\", \"Importance\", \"Type\"])\n",
    "\n",
    "\n",
    "def my_filter(data):\n",
    "  return data[\"Frequency\"].mean() >= 5\n",
    "\n",
    "\n",
    "print(df)\n",
    "#group객체.filter(조건식 함수)로 사용하며, 개별원소에 대한 필터링이 아니라, group객체를 필터링 한다는 것\n",
    "df = df.groupby(\"Type\").filter(my_filter)\n",
    "print(df)"
   ]
  },
  {
   "cell_type": "code",
   "execution_count": 24,
   "id": "f71fde0e",
   "metadata": {},
   "outputs": [
    {
     "name": "stdout",
     "output_type": "stream",
     "text": [
      "     Name  Frequency  Importance   Type\n",
      "0   Apple          7           5  Fruit\n",
      "1  Banana          3           6  Fruit\n"
     ]
    }
   ],
   "source": [
    "import pandas as pd\n",
    "\n",
    "df = pd.DataFrame([\n",
    "  ['Apple', 7, 5, 'Fruit'],\n",
    "  ['Banana', 3, 6, 'Fruit'],\n",
    "  ['Beef', 5, 2, 'Meal'],\n",
    "  ['Kimchi', 4, 8, 'Meal']],\n",
    "  columns=[\"Name\", \"Frequency\", \"Importance\", \"Type\"])\n",
    "#get_group() 메서드로 특정 그룹만 가져오기\n",
    "df = df.groupby(\"Type\").get_group(\"Fruit\")\n",
    "print(df)\n"
   ]
  },
  {
   "cell_type": "code",
   "execution_count": 25,
   "id": "24a80a1c",
   "metadata": {},
   "outputs": [
    {
     "name": "stdout",
     "output_type": "stream",
     "text": [
      "     Name  Frequency  Importance   Type  Gap\n",
      "0   Apple          7           5  Fruit  2.0\n",
      "1  Banana          3           6  Fruit -2.0\n",
      "2    Beef          5           2   Meal  0.5\n",
      "3  Kimchi          4           8   Meal -0.5\n"
     ]
    }
   ],
   "source": [
    "import pandas as pd\n",
    "\n",
    "df = pd.DataFrame([\n",
    "  ['Apple', 7, 5, 'Fruit'],\n",
    "  ['Banana', 3, 6, 'Fruit'],\n",
    "  ['Beef', 5, 2, 'Meal'],\n",
    "  ['Kimchi', 4, 8, 'Meal']],\n",
    "  columns=[\"Name\", \"Frequency\", \"Importance\", \"Type\"])\n",
    "\n",
    "df[\"Gap\"] = df.groupby(\"Type\")[\"Frequency\"].apply(lambda x: x - x.mean())\n",
    "print(df)"
   ]
  },
  {
   "cell_type": "code",
   "execution_count": 29,
   "id": "33ea70fc",
   "metadata": {},
   "outputs": [
    {
     "name": "stdout",
     "output_type": "stream",
     "text": [
      "       1회  2회  3회  4회\n",
      "1차 공격   4   8   7   8\n",
      "   수비   5   8   4   7\n",
      "2차 공격   8   6   8   4\n",
      "   수비   3   6   8   3\n",
      "    1회  2회\n",
      "공격   8   6\n",
      "수비   3   6\n"
     ]
    }
   ],
   "source": [
    "# 데이터 프레임의 다중화\n",
    "\n",
    "import numpy as np\n",
    "import pandas as pd\n",
    "\n",
    "df = pd.DataFrame(\n",
    "  np.random.randint(1, 10, (4, 4)),\n",
    "  index=[['1차', '1차', '2차', '2차'], ['공격', '수비', '공격', '수비']],\n",
    "  columns=['1회', '2회', '3회', '4회']\n",
    ")\n",
    "\n",
    "print(df)\n",
    "print(df[[\"1회\", \"2회\"]].loc[\"2차\"])"
   ]
  },
  {
   "cell_type": "code",
   "execution_count": 32,
   "id": "0570435f",
   "metadata": {},
   "outputs": [
    {
     "name": "stdout",
     "output_type": "stream",
     "text": [
      "      Name  Frequency  Importance   Type\n",
      "0    Apple          7           5  Fruit\n",
      "1   Banana          3           6  Fruit\n",
      "2  Coconut          2           6  Fruit\n",
      "3     Rice          8           2   Meal\n",
      "4     Beef          5           2   Meal\n",
      "5   Kimchi          4           8   Meal\n",
      "Type        Fruit  Meal\n",
      "Importance             \n",
      "2             NaN   8.0\n",
      "5             7.0   NaN\n",
      "6             3.0   NaN\n",
      "8             NaN   4.0\n"
     ]
    }
   ],
   "source": [
    "# 피벗 테이블의 기초 \n",
    "\n",
    "import numpy as np\n",
    "import pandas as pd\n",
    "\n",
    "df = pd.DataFrame([\n",
    "    ['Apple', 7, 5, 'Fruit'],\n",
    "    ['Banana', 3, 6, 'Fruit'],\n",
    "    ['Coconut', 2, 6, 'Fruit'],\n",
    "    ['Rice', 8, 2, 'Meal'],\n",
    "    ['Beef', 5, 2, 'Meal'],\n",
    "    ['Kimchi', 4, 8, 'Meal']],\n",
    "   columns=[\"Name\", \"Frequency\", \"Importance\", \"Type\"])\n",
    "\n",
    "print(df)\n",
    "# 피벗(Pivot) 테이블이란 많은 양의 데이터에서 필요한 자료만을 뽑아 새롭게 표를 작성해 주는 기능\n",
    "# 피벗 테이블을 사용하면 사용자 임의대로 데이터를 정렬하고 필터링 할 수 있음\n",
    "# tips.pivot(index=[행 인덱스], columns=[열 인덱스], values=[분석하고자 하는 KEY FIGURE(변수)])\n",
    "# aggfunc 라는 옵션을 통해 해당 데이터의 통계량을 바로 계산하는 것이 가능하다\n",
    "# aggfunc : 데이터 축약 시 사용할 함수 (mean, sum, count ...)\n",
    "\n",
    "출처: https://data-make.tistory.com/135 [Data Makes Our Future]\n",
    "df = df.pivot_table(\n",
    "    index=\"Importance\", columns=\"Type\", values=\"Frequency\",\n",
    "    aggfunc=np.max\n",
    ")\n",
    "print(df)"
   ]
  },
  {
   "cell_type": "code",
   "execution_count": null,
   "id": "fe18d145",
   "metadata": {},
   "outputs": [],
   "source": []
  }
 ],
 "metadata": {
  "kernelspec": {
   "display_name": "Python 3 (ipykernel)",
   "language": "python",
   "name": "python3"
  },
  "language_info": {
   "codemirror_mode": {
    "name": "ipython",
    "version": 3
   },
   "file_extension": ".py",
   "mimetype": "text/x-python",
   "name": "python",
   "nbconvert_exporter": "python",
   "pygments_lexer": "ipython3",
   "version": "3.8.13"
  }
 },
 "nbformat": 4,
 "nbformat_minor": 5
}
