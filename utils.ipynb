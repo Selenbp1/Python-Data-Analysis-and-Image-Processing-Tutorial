{
 "cells": [
  {
   "cell_type": "code",
   "execution_count": 2,
   "id": "8fca99cf",
   "metadata": {},
   "outputs": [],
   "source": [
    "#util.py\n",
    "#데이터 정제하기: 색상별로 이미지 추출\n",
    "BLUE = 0\n",
    "GREEN = 1\n",
    "RED = 2\n",
    "\n",
    "#특정한 색상의 모든 단어가 포함된 이미지를 추출\n",
    "def get_chars(image, color) :\n",
    "    other_1 = (color + 1) % 3\n",
    "    other_2 = (color + 2) % 3\n",
    "    \n",
    "    c = image[:, :, other_1] == 255\n",
    "    image[c] = [0, 0, 0]\n",
    "    c = image[:, :, other_2] == 255\n",
    "    image[c] = [0, 0, 0]\n",
    "    c = image[:, :, color] < 170\n",
    "    image[c] = [0, 0, 0]\n",
    "    c = image[:, :, color] != 0\n",
    "    image[c] = [255, 255, 255]\n",
    "    \n",
    "    return image"
   ]
  },
  {
   "cell_type": "code",
   "execution_count": 5,
   "id": "2276cfff",
   "metadata": {},
   "outputs": [],
   "source": [
    "#트레이닝 데이터 만들기 : 전체 이미지에서 왼쪽부터 단어별로 추출\n",
    "import cv2\n",
    "\n",
    "def extract_chars(image):\n",
    "    chars=[]\n",
    "    colors=[BLUE,GREEN,RED]\n",
    "    for color in colors:\n",
    "        image_from_one_color=get_chars(image.copy(),color)\n",
    "        image_gray = cv2.cvtColor(image_from_one_color, cv2.COLOR_BGR2GRAY)\n",
    "        ret, thresh = cv2.threshold(image_gray,127,255,0)\n",
    "        #RETR_EXTERNAL 옵션으로 숫자의 외각을 기준으로 분리\n",
    "        contours, _ = cv2.findContours(thresh, cv2.RETR_EXTERNAL, cv2.CHAIN_APPROX_SIMPLE)\n",
    "        \n",
    "        for contour in contours:\n",
    "            #추출된 이미지 크기가 50 이상인 경우만 실제 문자 데이터인 것으로 파악\n",
    "            area=cv2.contourArea(contour)\n",
    "            if area>50:\n",
    "                x,y,width,height = cv2.boundingRect(contour)\n",
    "                roi = image_gray[y:y+height,x:x+width]\n",
    "                chars.append((x,roi))\n",
    "                \n",
    "    chars=sorted(chars, key=lambda char: char[0])\n",
    "    return chars"
   ]
  },
  {
   "cell_type": "code",
   "execution_count": 4,
   "id": "51550d06",
   "metadata": {},
   "outputs": [],
   "source": [
    "import numpy as np\n",
    "\n",
    "#특정 이미지를 (20x20) 크기로 Scaling\n",
    "def resize20(image):\n",
    "    resized=cv2.resize(image,(20,20))\n",
    "    return resized.reshape(-1,400).astype(np.float32)"
   ]
  },
  {
   "cell_type": "code",
   "execution_count": null,
   "id": "a188d5e3",
   "metadata": {},
   "outputs": [],
   "source": []
  }
 ],
 "metadata": {
  "kernelspec": {
   "display_name": "Python 3 (ipykernel)",
   "language": "python",
   "name": "python3"
  },
  "language_info": {
   "codemirror_mode": {
    "name": "ipython",
    "version": 3
   },
   "file_extension": ".py",
   "mimetype": "text/x-python",
   "name": "python",
   "nbconvert_exporter": "python",
   "pygments_lexer": "ipython3",
   "version": "3.8.13"
  }
 },
 "nbformat": 4,
 "nbformat_minor": 5
}
