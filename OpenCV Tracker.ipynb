{
 "cells": [
  {
   "cell_type": "code",
   "execution_count": null,
   "id": "1547a006",
   "metadata": {},
   "outputs": [],
   "source": [
    "#cv2.createTracker(track_bar, name, window_name, value, count, on_change): Tracker를 생성하는 함수\n",
    "\n",
    "#value: 초기 값\n",
    "#count: Max 값 (Min: 0)\n",
    "#on_change: 값이 변경될 때 호출되는 Callback 함수\n",
    "#cv2.getTrackerPos(track_bar, name, window_name): Tracker로부터 값을 얻어 오는 함수\n",
    "import cv2\n",
    "import numpy as np\n",
    "\n",
    "def change_color(x):\n",
    "  r = cv2.getTrackbarPos(\"R\", \"Image\")\n",
    "  g = cv2.getTrackbarPos(\"G\", \"Image\")\n",
    "  b = cv2.getTrackbarPos(\"B\", \"Image\")\n",
    "  image[:] = [b, g, r]\n",
    "  cv2.imshow('Image', image) #해당 이미지 출력 \n",
    "  \n",
    "image = np.zeros((600, 400, 3), np.uint8) # (크기, 크기, 3개 색상)\n",
    "cv2.namedWindow(\"Image\")\n",
    "\n",
    "cv2.createTrackbar(\"R\", \"Image\", 0, 255, change_color)\n",
    "cv2.createTrackbar(\"G\", \"Image\", 0, 255, change_color)\n",
    "cv2.createTrackbar(\"B\", \"Image\", 0, 255, change_color)\n",
    "\n",
    "cv2.imshow('Image', image)\n",
    "cv2.waitKey(0)"
   ]
  },
  {
   "cell_type": "code",
   "execution_count": null,
   "id": "ce717932",
   "metadata": {},
   "outputs": [],
   "source": []
  },
  {
   "cell_type": "code",
   "execution_count": null,
   "id": "041ea8c8",
   "metadata": {},
   "outputs": [],
   "source": []
  }
 ],
 "metadata": {
  "kernelspec": {
   "display_name": "Python 3 (ipykernel)",
   "language": "python",
   "name": "python3"
  },
  "language_info": {
   "codemirror_mode": {
    "name": "ipython",
    "version": 3
   },
   "file_extension": ".py",
   "mimetype": "text/x-python",
   "name": "python",
   "nbconvert_exporter": "python",
   "pygments_lexer": "ipython3",
   "version": "3.8.13"
  }
 },
 "nbformat": 4,
 "nbformat_minor": 5
}
