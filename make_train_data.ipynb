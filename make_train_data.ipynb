{
 "cells": [
  {
   "cell_type": "code",
   "execution_count": null,
   "id": "78ba6c97",
   "metadata": {},
   "outputs": [],
   "source": [
    "import os\n",
    "import cv2\n",
    "import utils\n",
    "\n",
    "#training_data 폴더 생성 및 그 내부에 0,1,2,3,4,5,6,7,8,9,10,11,12 폴더 생성\n",
    "image = cv2.imread('1.png')\n",
    "chars = utils.extract_chars(image)\n",
    "\n",
    "for char in chars:\n",
    "    cv2.imshow('Image', char[1])\n",
    "    input = cv2.waitKey(0)\n",
    "    resized = cv2.resize(char[1],(20,20))\n",
    "    \n",
    "    if input >= 48 and input <= 57:\n",
    "        name = str(input - 48)\n",
    "        file_count = len(next(os.walk('./training_data/'+name+'/'))[2])\n",
    "        cv2.imwrite('./training_data/'+str(input - 48)+'/'+\n",
    "        str(file_count+1)+'.png',resized)\n",
    "    elif input == ord('a') or input == ord('b') or input == ('c'):\n",
    "        name = str(input - ord('a')+10)\n",
    "        file_count=len(next(os.walk('./training_data/'+name+'/'))[2])\n",
    "        cv2.imwrite('./training_data/'+name+'/'+\n",
    "        str(file_count+1)+'.png',resized)\n",
    "        "
   ]
  },
  {
   "cell_type": "code",
   "execution_count": null,
   "id": "08a4ffde",
   "metadata": {},
   "outputs": [],
   "source": []
  },
  {
   "cell_type": "code",
   "execution_count": null,
   "id": "469394d3",
   "metadata": {},
   "outputs": [],
   "source": []
  }
 ],
 "metadata": {
  "kernelspec": {
   "display_name": "Python 3 (ipykernel)",
   "language": "python",
   "name": "python3"
  },
  "language_info": {
   "codemirror_mode": {
    "name": "ipython",
    "version": 3
   },
   "file_extension": ".py",
   "mimetype": "text/x-python",
   "name": "python",
   "nbconvert_exporter": "python",
   "pygments_lexer": "ipython3",
   "version": "3.8.13"
  }
 },
 "nbformat": 4,
 "nbformat_minor": 5
}
