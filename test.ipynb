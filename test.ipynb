{
 "cells": [
  {
   "cell_type": "code",
   "execution_count": null,
   "id": "945893e1",
   "metadata": {},
   "outputs": [],
   "source": [
    "#test.py\n",
    "#데이터 정제하기: 테스트\n",
    "import cv2\n",
    "import utils\n",
    "\n",
    "image = cv2.imread('1.png', cv2.IMREAD_COLOR)\n",
    "blue = utils.get_chars(image.copy(), utils.BLUE)\n",
    "green = utils.get_chars(image.copy(), utils.GREEN)\n",
    "red = utils.get_chars(image.copy(), utils.RED)\n",
    "cv2.imshow('Image Gray', blue)\n",
    "cv2.waitKey(0)\n",
    "cv2.imshow('Image Gray', green)\n",
    "cv2.waitKey(0)\n",
    "cv2.imshow('Imgae Gray', red)\n",
    "cv2.waitKey(0)"
   ]
  },
  {
   "cell_type": "code",
   "execution_count": null,
   "id": "ba474cf2",
   "metadata": {},
   "outputs": [],
   "source": [
    "import cv2\n",
    "\n",
    "image=cv2.imread('1.png', cv2.IMREAD_ANYCOLOR)\n",
    "cv2.imshow('1', image)\n",
    "cv2.waitKey()"
   ]
  },
  {
   "cell_type": "code",
   "execution_count": null,
   "id": "c85031cf",
   "metadata": {},
   "outputs": [],
   "source": []
  }
 ],
 "metadata": {
  "kernelspec": {
   "display_name": "Python 3 (ipykernel)",
   "language": "python",
   "name": "python3"
  },
  "language_info": {
   "codemirror_mode": {
    "name": "ipython",
    "version": 3
   },
   "file_extension": ".py",
   "mimetype": "text/x-python",
   "name": "python",
   "nbconvert_exporter": "python",
   "pygments_lexer": "ipython3",
   "version": "3.8.13"
  }
 },
 "nbformat": 4,
 "nbformat_minor": 5
}