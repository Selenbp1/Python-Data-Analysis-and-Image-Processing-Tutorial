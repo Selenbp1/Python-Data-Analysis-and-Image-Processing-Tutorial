{
 "cells": [
  {
   "cell_type": "code",
   "execution_count": 1,
   "id": "9e9ff4d9",
   "metadata": {},
   "outputs": [],
   "source": [
    "# 리뷰 정보 클래스 작성하기\n",
    "import urllib.request\n",
    "from bs4 import BeautifulSoup\n",
    "\n",
    "class Review:\n",
    "  def __init__(self, comment, date, star, good, bad):\n",
    "    self.comment = comment\n",
    "    self.date = date\n",
    "    self.star = star\n",
    "    self.good = good\n",
    "    self.bad = bad\n",
    "\n",
    "  def show(self):\n",
    "    print(\"내용: \" + self.comment +\n",
    "          \"\\n날짜: \" + self.date +\n",
    "          \"\\n별점: \" + self.star +\n",
    "          \"\\n좋아요: \" + self.good +\n",
    "          \"\\n싫어요: \" + self.bad)"
   ]
  },
  {
   "cell_type": "code",
   "execution_count": 2,
   "id": "71bed326",
   "metadata": {},
   "outputs": [],
   "source": [
    "# 리뷰 정보 크롤링 함수\n",
    "\n",
    "def crawl(url):\n",
    "  soup = BeautifulSoup(urllib.request.urlopen(url).read(), \"html.parser\")\n",
    "  review_list = []\n",
    "  title = soup.find('h3', class_='h_movie').find('a').text\n",
    "  div = soup.find(\"div\", class_=\"score_result\")\n",
    "  data_list = div.select(\"ul > li\")\n",
    "  \n",
    "  for review in data_list:\n",
    "    star = review.find(\"div\", class_=\"star_score\").text.strip()\n",
    "    reply = review.find(\"div\", class_=\"score_reple\")\n",
    "    comment = reply.find(\"p\").text\n",
    "    date = reply.select(\"dt > em\")[1].text.strip()\n",
    "    button = review.find(\"div\", class_=\"btn_area\")\n",
    "    sympathy = button.select(\"div > a > strong\")\n",
    "    good = sympathy[0].text\n",
    "    bad = sympathy[1].text\n",
    "    review_list.append(Review(comment, date, star, good, bad))\n",
    "\n",
    "  return title, review_list"
   ]
  },
  {
   "cell_type": "code",
   "execution_count": 3,
   "id": "75110c1f",
   "metadata": {},
   "outputs": [],
   "source": [
    "# 데이터 프레임화\n",
    "\n",
    "import pandas as pd\n",
    "\n",
    "def get_summary(review_list):\n",
    "  star_list = []\n",
    "  good_list = []\n",
    "  bad_list = []\n",
    "  \n",
    "  for review in review_list:\n",
    "    star_list.append(int(review.star))\n",
    "    good_list.append(int(review.good))\n",
    "    bad_list.append(int(review.bad))\n",
    "    \n",
    "  star_series = pd.Series(star_list)\n",
    "  good_series = pd.Series(good_list)\n",
    "  bad_series = pd.Series(bad_list)\n",
    "  \n",
    "  summary = pd.DataFrame({\n",
    "      'Star': star_series,\n",
    "      'Good': good_series,\n",
    "      'Bad': bad_series,\n",
    "      'Score': good_series / (good_series + bad_series)\n",
    "  })\n",
    "  \n",
    "  return summary"
   ]
  },
  {
   "cell_type": "code",
   "execution_count": 4,
   "id": "32c382fe",
   "metadata": {},
   "outputs": [
    {
     "name": "stdout",
     "output_type": "stream",
     "text": [
      "[ 어벤져스: 엔드게임 ]\n",
      "   Star   Good  Bad     Score\n",
      "0    10  23837  670  0.972661\n",
      "1    10  15795  443  0.972718\n",
      "2    10  15396  475  0.970071\n",
      "3    10  14358  585  0.960851\n",
      "4    10  11932  437  0.964670\n",
      "[ 명탐정 피카츄 ]\n",
      "   Star  Good  Bad     Score\n",
      "0    10  1974  108  0.948127\n",
      "1    10   996   86  0.920518\n",
      "2    10   932   84  0.917323\n",
      "3     8   962  284  0.772071\n",
      "4     8   640   44  0.935673\n",
      "[ 고양이 여행 리포트 ]\n",
      "   Star  Good  Bad     Score\n",
      "0    10    78    6  0.928571\n",
      "1    10    46    4  0.920000\n",
      "2    10    38    5  0.883721\n",
      "3    10    34    3  0.918919\n",
      "4     6    55   25  0.687500\n",
      "[ 물의 기억 ]\n",
      "   Star  Good  Bad     Score\n",
      "0    10    29   12  0.707317\n",
      "1    10    27   12  0.692308\n",
      "2    10    24   11  0.685714\n",
      "3    10    19    7  0.730769\n",
      "4    10    22   10  0.687500\n",
      "[ 더 캡틴 ]\n",
      "   Star  Good  Bad     Score\n",
      "0     9    90   12  0.882353\n",
      "1    10    50    7  0.877193\n",
      "2    10    48    6  0.888889\n",
      "3     8    43    6  0.877551\n",
      "4     8    33    0  1.000000\n"
     ]
    }
   ],
   "source": [
    "# 다수의 영화 데이터 시각화\n",
    "\n",
    "movie_code_list = [136900, 167657, 174321, 184859, 167391]\n",
    "review_lists = []\n",
    "\n",
    "for i in movie_code_list:\n",
    "  title, review_list = crawl(\"https://movie.naver.com/movie/bi/mi/basic.nhn?code=\" + str(i))\n",
    "  summary = get_summary(review_list)\n",
    "  print(\"[ %s ]\" % (title))\n",
    "  print(summary)\n",
    "  review_lists.append((title, review_list))"
   ]
  },
  {
   "cell_type": "code",
   "execution_count": 18,
   "id": "e17fca82",
   "metadata": {},
   "outputs": [
    {
     "data": {
      "image/png": "[encoded data removed]",
      "text/plain": [
       "<Figure size 432x288 with 1 Axes>"
      ]
     },
     "metadata": {
      "needs_background": "light"
     },
     "output_type": "display_data"
    }
   ],
   "source": [
    "# 다수의 영화 데이터 시각화\n",
    "import matplotlib\n",
    "import matplotlib.pyplot as plt\n",
    "import matplotlib.font_manager as fm\n",
    "\n",
    "font_path = '/Users/kimbyeongmin/Desktop/NanumFont/NanumGothic.ttf'\n",
    "fontprop = fm.FontProperties(fname=font_path, size=18)\n",
    "\n",
    "def movie_compare(review_lists):\n",
    "  count = 1\n",
    "  x = []\n",
    "  y = []\n",
    "  for movie, review_list in review_lists:\n",
    "    x.append(count)\n",
    "    summary = get_summary(review_list)\n",
    "    summary = summary[summary['Score'] > 0.8]\n",
    "    y.append(summary['Star'].mean())\n",
    "    count += 1\n",
    "  plt.bar(x, y)\n",
    "  plt.title('영화 별점 비교', fontproperties=fontprop)\n",
    "  plt.xlabel('영화 번호', fontproperties=fontprop)\n",
    "  plt.ylabel('신뢰성 별점 평균', fontproperties=fontprop)\n",
    "  plt.show()\n",
    "  \n",
    "movie_compare(review_lists)\n"
   ]
  },
  {
   "cell_type": "code",
   "execution_count": null,
   "id": "47982529",
   "metadata": {},
   "outputs": [],
   "source": []
  }
 ],
 "metadata": {
  "kernelspec": {
   "display_name": "Python 3 (ipykernel)",
   "language": "python",
   "name": "python3"
  },
  "language_info": {
   "codemirror_mode": {
    "name": "ipython",
    "version": 3
   },
   "file_extension": ".py",
   "mimetype": "text/x-python",
   "name": "python",
   "nbconvert_exporter": "python",
   "pygments_lexer": "ipython3",
   "version": "3.8.13"
  }
 },
 "nbformat": 4,
 "nbformat_minor": 5
}
