{
 "cells": [
  {
   "cell_type": "code",
   "execution_count": null,
   "id": "42274550",
   "metadata": {},
   "outputs": [],
   "source": [
    "conda install -c conda-forge google-colab\n",
    "#google-colab 오류 발생으로 설치하였음"
   ]
  },
  {
   "cell_type": "code",
   "execution_count": null,
   "id": "63b89e56",
   "metadata": {},
   "outputs": [],
   "source": [
    "#CoLab에서 파일을 업로드하는 방법은 다음과 같습니다.\n",
    "\n",
    "from google.colab import files\n",
    "uploaded = files.upload()"
   ]
  },
  {
   "cell_type": "code",
   "execution_count": null,
   "id": "dc518522",
   "metadata": {},
   "outputs": [],
   "source": [
    "#OpenCV의 기본적인 함수\n",
    "#cv2.imread(file_name, flag): 이미지를 읽어 Numpy 객체로 만드는 함수\n",
    "#IMREAD_COLOR: 이미지를 Color로 읽고, 투명한 부분은 무시\n",
    "#IMREAD_GRAYSCALE: 이미지를 Grayscale로 읽기\n",
    "#IMREAD_UNCHANGED: 이미지를 Color로 읽고, 투명ㅇ한 부분도 읽기(Alpha)\n",
    "#반환 값 : Numpy 객체(행,열, 색상:기본 BGR)\n",
    "\n",
    "#cv2.imshow(title, image): 특정한 이미지를 화면에 출력하는 함수\n",
    "#title: 윈도우 창의 제목\n",
    "#image: 출력할 이미지 객체\n",
    "\n",
    "#cv2.cvtColor(image, flag): 이미지를 색상 형태를 변경하는 함수\n",
    "#file_name: 저장할 이미지 파일 이름\n",
    "#image: 저장할 이미지 객체 \n",
    "\n",
    "#cv2.waitKey(time): 키보드 입력을 처리하는 함수\n",
    "#time: 입력 대기 시간 (무한대기:0)\n",
    "#반환 값 : 사용자가 입력한 Ascii Code(Esc:27)\n",
    "\n",
    "#cv2.destroyAllWindow(): 화면의 모든 윈도우를 닫는 함수\n",
    "\n",
    "#CoLab에서의 이미지 출력\n",
    "#CoLab은 Jupyter Notebook을 기반으로 동작하므로 Matplotlib를 이용하여 이미지를 출력합니다.\n",
    "#OpenCV는 BGR을 기준으로 하며, Matplotlib는 RGB를 기준으로 합니다.\n",
    "\n",
    "import cv2\n",
    "import matplotlib.pyplot as plt\n",
    "\n",
    "img_basic = cv2.imread('cat.jpg', cv2.IMREAD_COLOR)\n",
    "plt.imshow(cv2.cvtColor(img_basic, cv2.COLOR_BGR2RGB))\n",
    "plt.show()\n",
    "\n",
    "img_basic = cv2.cvtColor(img_basic, cv2.COLOR_BGR2GRAY)\n",
    "plt.imshow(cv2.cvtColor(img_basic, cv2.COLOR_GRAY2RGB))\n",
    "plt.show()"
   ]
  },
  {
   "cell_type": "code",
   "execution_count": null,
   "id": "4b8fe5b1",
   "metadata": {},
   "outputs": [],
   "source": [
    "!pip install opencv-python\n",
    "#cv2 에러 때문에 opencv 설치하였음"
   ]
  },
  {
   "cell_type": "code",
   "execution_count": null,
   "id": "31590e00",
   "metadata": {},
   "outputs": [],
   "source": []
  }
 ],
 "metadata": {
  "kernelspec": {
   "display_name": "Python 3",
   "language": "python",
   "name": "python3"
  },
  "language_info": {
   "codemirror_mode": {
    "name": "ipython",
    "version": 3
   },
   "file_extension": ".py",
   "mimetype": "text/x-python",
   "name": "python",
   "nbconvert_exporter": "python",
   "pygments_lexer": "ipython3",
   "version": "3.9.7"
  }
 },
 "nbformat": 4,
 "nbformat_minor": 5
}
